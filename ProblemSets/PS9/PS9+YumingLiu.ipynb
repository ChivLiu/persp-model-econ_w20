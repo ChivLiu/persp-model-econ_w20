{
 "cells": [
  {
   "cell_type": "markdown",
   "metadata": {},
   "source": [
    "## PS9 Yuming Liu "
   ]
  },
  {
   "cell_type": "code",
   "execution_count": 1,
   "metadata": {},
   "outputs": [],
   "source": [
    "import pandas as pd\n",
    "from sklearn.linear_model import LogisticRegression\n",
    "from sklearn.model_selection import RandomizedSearchCV\n",
    "from sklearn.ensemble import RandomForestClassifier\n",
    "from sklearn.metrics import mean_squared_error\n",
    "from sklearn.svm import SVC\n",
    "from sklearn.neural_network import MLPClassifier\n",
    "import matplotlib.pyplot as plt\n",
    "from scipy.stats import uniform as sp_uniform\n",
    "from scipy.stats import randint as sp_randint"
   ]
  },
  {
   "cell_type": "markdown",
   "metadata": {},
   "source": [
    "### Problem 1(a)"
   ]
  },
  {
   "cell_type": "code",
   "execution_count": 2,
   "metadata": {},
   "outputs": [
    {
     "data": {
      "image/png": "[encoded data removed]",
      "text/plain": [
       "<Figure size 432x288 with 1 Axes>"
      ]
     },
     "metadata": {
      "needs_background": "light"
     },
     "output_type": "display_data"
    }
   ],
   "source": [
    "df = pd.read_csv('data/strongdrink.txt')\n",
    "df.dropna(inplace = True)\n",
    "\n",
    "for cultivar, group in df.groupby(['cultivar']):\n",
    "    plt.scatter(group['alco'], group['color_int'],label = cultivar)\n",
    "\n",
    "plt.legend()\n",
    "plt.xlabel('Alcohol')\n",
    "plt.ylabel('Color Intensity')\n",
    "plt.title('Relationship between Color Intensity and Alcohol')\n",
    "plt.show()"
   ]
  },
  {
   "cell_type": "markdown",
   "metadata": {},
   "source": [
    "### Problem 1(b)"
   ]
  },
  {
   "cell_type": "code",
   "execution_count": 3,
   "metadata": {},
   "outputs": [],
   "source": [
    "X = ['alco','malic','tot_phen','color_int']\n",
    "y = 'cultivar'"
   ]
  },
  {
   "cell_type": "code",
   "execution_count": 4,
   "metadata": {},
   "outputs": [
    {
     "name": "stdout",
     "output_type": "stream",
     "text": [
      "Optimal tuning parameters: {'C': 6.94968744374135, 'penalty': 'l2'}\n",
      "MSE = 0.09015873015873017\n"
     ]
    }
   ],
   "source": [
    "param_dist1 = {'penalty': ['l1', 'l2'], 'C': sp_uniform(0.1, 10.0)}\n",
    "random_search1 = RandomizedSearchCV(LogisticRegression(), param_distributions = param_dist1,\\\n",
    "                                    n_iter = 200, n_jobs = -1, cv = 5, random_state = 25, scoring = 'neg_mean_squared_error')\n",
    "random_search1.fit(df[X], df[y])\n",
    "print('Optimal tuning parameters:', random_search1.best_params_)\n",
    "print('MSE =', abs(random_search1.best_score_))"
   ]
  },
  {
   "cell_type": "markdown",
   "metadata": {},
   "source": [
    "### Problem 1(c)"
   ]
  },
  {
   "cell_type": "code",
   "execution_count": 6,
   "metadata": {},
   "outputs": [
    {
     "name": "stdout",
     "output_type": "stream",
     "text": [
      "Optimal tuning parameters {'max_depth': 2, 'max_features': 2, 'min_samples_leaf': 19, 'min_samples_split': 4, 'n_estimators': 22}\n",
      "MSE = 0.10238095238095238\n"
     ]
    }
   ],
   "source": [
    "param_dist2 = {'n_estimators': sp_randint(10, 200),\n",
    "               'max_depth': sp_randint(2, 4),\n",
    "               'min_samples_split': sp_randint(2, 20),\n",
    "               'min_samples_leaf': sp_randint(2, 20),\n",
    "               'max_features': sp_randint(1, 4)}\n",
    "random_search2 = RandomizedSearchCV(RandomForestClassifier(), param_distributions = param_dist2,\\ \n",
    "                                    n_iter = 200, n_jobs = -1, cv = 5, random_state = 25, scoring='neg_mean_squared_error')\n",
    "\n",
    "random_search2.fit(df[X], df[y])\n",
    "\n",
    "print('Optimal tuning parameters', random_search2.best_params_)\n",
    "print('MSE =', abs(random_search2.best_score_))"
   ]
  },
  {
   "cell_type": "markdown",
   "metadata": {},
   "source": [
    "### Problem 1(d)"
   ]
  },
  {
   "cell_type": "code",
   "execution_count": 8,
   "metadata": {},
   "outputs": [
    {
     "name": "stdout",
     "output_type": "stream",
     "text": [
      "Optimal tuning parameters {'C': 8.801241366272118, 'gamma': 'scale', 'shrinking': False}\n",
      "MSE = 0.1461904761904762\n"
     ]
    }
   ],
   "source": [
    "param_dist3 = {'C': sp_uniform(loc=0.1, scale=10.0),\n",
    "                'gamma': ['scale', 'auto'],\n",
    "                'shrinking': [True, False]}\n",
    "\n",
    "random_search3 = RandomizedSearchCV(SVC(kernel='rbf'), param_distributions = param_dist3,\\\n",
    "                                   n_iter = 200, n_jobs = -1, cv = 5, random_state = 25, scoring='neg_mean_squared_error')\n",
    "\n",
    "random_search3.fit(df[X], df[y])\n",
    "\n",
    "print('Optimal tuning parameters', random_search3.best_params_)\n",
    "print('MSE =', abs(random_search3.best_score_))"
   ]
  },
  {
   "cell_type": "markdown",
   "metadata": {},
   "source": [
    "### Problem 1(e)"
   ]
  },
  {
   "cell_type": "code",
   "execution_count": 12,
   "metadata": {},
   "outputs": [
    {
     "name": "stdout",
     "output_type": "stream",
     "text": [
      "Optimal tuning parameters {'activation': 'relu', 'alpha': 1.2079463985549488, 'hidden_layer_sizes': 93}\n",
      "MSE = 0.20920634920634923\n"
     ]
    },
    {
     "name": "stderr",
     "output_type": "stream",
     "text": [
      "C:\\Users\\60207\\Anaconda3\\lib\\site-packages\\sklearn\\neural_network\\_multilayer_perceptron.py:571: ConvergenceWarning: Stochastic Optimizer: Maximum iterations (200) reached and the optimization hasn't converged yet.\n",
      "  % self.max_iter, ConvergenceWarning)\n"
     ]
    }
   ],
   "source": [
    "param_dist4 = {'hidden_layer_sizes': sp_randint(1, 100),\n",
    "                'activation': ['logistic', 'relu'],\n",
    "                'alpha': sp_uniform(0.1, 10.0)}\n",
    "\n",
    "random_search4 = RandomizedSearchCV(MLPClassifier(), param_distributions = param_dist4,\\\n",
    "                                   n_iter = 200, n_jobs = -1, cv = 5, random_state = 25, scoring='neg_mean_squared_error')\n",
    "\n",
    "random_search4.fit(df[X], df[y])\n",
    "\n",
    "print('Optimal tuning parameters', random_search4.best_params_)\n",
    "print('MSE =', abs(random_search4.best_score_))"
   ]
  },
  {
   "cell_type": "markdown",
   "metadata": {},
   "source": [
    "### Problem 1(f)"
   ]
  },
  {
   "cell_type": "markdown",
   "metadata": {},
   "source": [
    "From the above model, the logistic regression is the best predictor of cultivar since it has the lowest MSE. From the above three (Random Forrest, SVM, Neural Network), Random Forrest is the best predictor with the lowest MSE."
   ]
  }
 ],
 "metadata": {
  "kernelspec": {
   "display_name": "Python 3",
   "language": "python",
   "name": "python3"
  },
  "language_info": {
   "codemirror_mode": {
    "name": "ipython",
    "version": 3
   },
   "file_extension": ".py",
   "mimetype": "text/x-python",
   "name": "python",
   "nbconvert_exporter": "python",
   "pygments_lexer": "ipython3",
   "version": "3.6.5"
  }
 },
 "nbformat": 4,
 "nbformat_minor": 2
}
