{
 "cells": [
  {
   "cell_type": "markdown",
   "metadata": {},
   "source": [
    "## Yuming Liu PS5"
   ]
  },
  {
   "cell_type": "code",
   "execution_count": 30,
   "metadata": {},
   "outputs": [],
   "source": [
    "import numpy as np\n",
    "import numpy.linalg as lin\n",
    "import scipy.stats as sts\n",
    "import scipy.integrate as intgr\n",
    "import scipy.optimize as opt\n",
    "import matplotlib\n",
    "import matplotlib.pyplot as plt\n",
    "from mpl_toolkits.mplot3d import Axes3D\n",
    "import warnings\n",
    "import pandas as pd\n",
    "import requests\n",
    "\n",
    "warnings.filterwarnings(\"ignore\")"
   ]
  },
  {
   "cell_type": "markdown",
   "metadata": {},
   "source": [
    "### Problem 1(a)"
   ]
  },
  {
   "cell_type": "code",
   "execution_count": 2,
   "metadata": {},
   "outputs": [
    {
     "data": {
      "image/png": "[encoded data removed]",
      "text/plain": [
       "<Figure size 432x288 with 1 Axes>"
      ]
     },
     "metadata": {
      "needs_background": "light"
     },
     "output_type": "display_data"
    }
   ],
   "source": [
    "pts = np.loadtxt('data/incomes.txt')\n",
    "\n",
    "num_bins = 30\n",
    "count, bins, ignored = plt.hist(pts, num_bins, density=True, edgecolor='k')\n",
    "plt.title('Annual Incomes of MACSS Students Graduating between 2018 and 2020') \n",
    "plt.xlabel(r'Incomes')\n",
    "plt.ylabel(r'Percent of Incomes')\n",
    "plt.xlim([0, 150000])\n",
    "plt.show()"
   ]
  },
  {
   "cell_type": "markdown",
   "metadata": {},
   "source": [
    "### Problem 1(b)"
   ]
  },
  {
   "cell_type": "code",
   "execution_count": 3,
   "metadata": {},
   "outputs": [],
   "source": [
    "def trunc_lognorm_pdf(xvals, mu, sigma, cut_lb, cut_ub):\n",
    "    if cut_ub == 'None' and cut_lb == 'None':\n",
    "        prob_notcut = 1.0\n",
    "    elif cut_ub == 'None' and cut_lb != 'None':\n",
    "        prob_notcut = 1.0 - sts.lognorm.cdf(cut_lb, scale=np.exp(mu), s=sigma)\n",
    "    elif cut_ub != 'None' and cut_lb == 'None':\n",
    "        prob_notcut = sts.lognorm.cdf(cut_ub, scale=np.exp(mu), s=sigma)\n",
    "    elif cut_ub != 'None' and cut_lb != 'None':\n",
    "        prob_notcut = (sts.lognorm.cdf(cut_ub, scale=np.exp(mu), s=sigma) -\n",
    "                       sts.lognorm.cdf(cut_lb, scale=np.exp(mu), s=sigma))\n",
    "            \n",
    "    pdf_vals    = ((1/(xvals*sigma * np.sqrt(2 * np.pi)) *\n",
    "                    np.exp( - (np.log(xvals) - mu)**2 / (2 * sigma**2))) /\n",
    "                    prob_notcut)\n",
    "    \n",
    "    return pdf_vals"
   ]
  },
  {
   "cell_type": "code",
   "execution_count": 4,
   "metadata": {},
   "outputs": [],
   "source": [
    "def data_moments(xvals):\n",
    "    mean_data = xvals.mean()\n",
    "    std_data = xvals.std()\n",
    "    \n",
    "    return mean_data, std_data\n",
    "\n",
    "def model_moments(mu, sigma, cut_lb, cut_ub):\n",
    "    xfx = lambda x: x * trunc_lognorm_pdf(x, mu, sigma, cut_lb, cut_ub)\n",
    "    (mean_model, m_m_err) = intgr.quad(xfx, cut_lb, cut_ub)\n",
    "    x2fx = lambda x: ((x - mean_model) ** 2) * trunc_lognorm_pdf(x, mu, sigma, cut_lb, cut_ub) \n",
    "    (var_model, v_m_err) = intgr.quad(x2fx, cut_lb, cut_ub)\n",
    "    \n",
    "    return mean_model, np.sqrt(var_model)"
   ]
  },
  {
   "cell_type": "code",
   "execution_count": 5,
   "metadata": {},
   "outputs": [],
   "source": [
    "def err_vec(xvals, mu, sigma, cut_lb, cut_ub, simple):\n",
    "    mean_data, std_data = data_moments(xvals)\n",
    "    moms_data = np.array([[mean_data], [std_data]])\n",
    "    mean_model, std_model = model_moments(mu, sigma, cut_lb, cut_ub)\n",
    "    moms_model = np.array([[mean_model], [std_model]])\n",
    "    if simple:\n",
    "        err_vec = moms_model - moms_data\n",
    "    else:\n",
    "        err_vec = (moms_model - moms_data) / moms_data\n",
    "    \n",
    "    return err_vec"
   ]
  },
  {
   "cell_type": "code",
   "execution_count": 6,
   "metadata": {},
   "outputs": [],
   "source": [
    "def criterion(params, *args):\n",
    "    mu, sigma = params\n",
    "    xvals, cut_lb, cut_ub, W = args\n",
    "    err = err_vec(xvals, mu, sigma, cut_lb, cut_ub, simple=False)\n",
    "    crit_val = err.T @ W @ err\n",
    "    \n",
    "    return crit_val"
   ]
  },
  {
   "cell_type": "code",
   "execution_count": 7,
   "metadata": {},
   "outputs": [
    {
     "name": "stdout",
     "output_type": "stream",
     "text": [
      "mu_GMM1= 11.33359961340108  sig_GMM1= 0.21325529509280874\n"
     ]
    },
    {
     "data": {
      "text/plain": [
       "      fun: array([[6.39927099e-16]])\n",
       " hess_inv: <2x2 LbfgsInvHessProduct with dtype=float64>\n",
       "      jac: array([-1.14973834e-08, -2.93647018e-08])\n",
       "  message: b'CONVERGENCE: REL_REDUCTION_OF_F_<=_FACTR*EPSMCH'\n",
       "     nfev: 45\n",
       "      nit: 10\n",
       "   status: 0\n",
       "  success: True\n",
       "        x: array([11.33359961,  0.2132553 ])"
      ]
     },
     "execution_count": 7,
     "metadata": {},
     "output_type": "execute_result"
    }
   ],
   "source": [
    "mu_init = 11\n",
    "sig_init = 0.5\n",
    "params_init = np.array([mu_init, sig_init])\n",
    "W_hat = np.eye(2)\n",
    "gmm_args = (pts, 0, 150000, W_hat)\n",
    "results = opt.minimize(criterion, params_init, args=(gmm_args), tol=1e-14,\n",
    "                       method='L-BFGS-B', bounds=((None, None), (1e-10, None)))\n",
    "mu_GMM1, sig_GMM1 = results.x\n",
    "print('mu_GMM1=', mu_GMM1, ' sig_GMM1=', sig_GMM1)\n",
    "results"
   ]
  },
  {
   "cell_type": "code",
   "execution_count": 8,
   "metadata": {},
   "outputs": [
    {
     "name": "stdout",
     "output_type": "stream",
     "text": [
      "Mean of points = 85276.82360625811 , SD of points = 17992.542128046523\n",
      "Mean of model = 85276.82405854983 , SD of model = 17992.541683009535\n",
      "Error vector= [ 5.30380584e-09 -2.47345253e-08]\n",
      "mean difference: 0.0004522917151916772\n",
      "SD difference: 0.000445036988821812\n"
     ]
    }
   ],
   "source": [
    "mean_data, std_data = data_moments(pts)\n",
    "mean_model, std_model = model_moments(mu_GMM1, sig_GMM1, 0.0, 150000.0)\n",
    "err1 = err_vec(pts, mu_GMM1, sig_GMM1, 0.0, 150000.0, False).reshape(2,)\n",
    "print('Mean of points =', mean_data, ', SD of points =', std_data)\n",
    "print('Mean of model =', mean_model, ', SD of model =', std_model)\n",
    "print('Error vector=', err1)\n",
    "results\n",
    "print('mean difference:', abs(mean_data-mean_model))\n",
    "print('SD difference:', abs(std_data-std_model))"
   ]
  },
  {
   "cell_type": "code",
   "execution_count": 9,
   "metadata": {},
   "outputs": [
    {
     "data": {
      "text/plain": [
       "<matplotlib.legend.Legend at 0x22299ac9e48>"
      ]
     },
     "execution_count": 9,
     "metadata": {},
     "output_type": "execute_result"
    },
    {
     "data": {
      "image/png": "[encoded data removed]",
      "text/plain": [
       "<Figure size 432x288 with 1 Axes>"
      ]
     },
     "metadata": {
      "needs_background": "light"
     },
     "output_type": "display_data"
    }
   ],
   "source": [
    "num_bins = 30\n",
    "count, bins, ignored = plt.hist(pts, num_bins, density=True, edgecolor='k')\n",
    "plt.title('Annual Incomes of MACSS Students Graduating between 2018 and 2020') \n",
    "plt.xlabel(r'Incomes')\n",
    "plt.ylabel(r'Percent of Incomes')\n",
    "plt.xlim([0, 150000])\n",
    "\n",
    "dist_pts = np.linspace(0, 150000, 1000)\n",
    "plt.plot(dist_pts, trunc_lognorm_pdf(dist_pts, mu_GMM1, sig_GMM1, 0.0, 150000),\n",
    "         linewidth=2, color='r', label='1: $\\mu_{GMM1}$,$\\sigma_{GMM1}$')\n",
    "plt.legend(loc='upper left')"
   ]
  },
  {
   "cell_type": "markdown",
   "metadata": {},
   "source": [
    "### Problem 1(c)"
   ]
  },
  {
   "cell_type": "code",
   "execution_count": 10,
   "metadata": {},
   "outputs": [],
   "source": [
    "def get_Err_mat2(pts, mu, sigma, cut_lb, cut_ub, simple=False):\n",
    "    R = 2\n",
    "    N = len(pts)\n",
    "    Err_mat = np.zeros((R, N))\n",
    "    mean_model, var_model = model_moments(mu, sigma, cut_lb, cut_ub)\n",
    "    if simple:\n",
    "        Err_mat[0, :] = pts - mean_model\n",
    "        Err_mat[1, :] = ((mean_data - pts) ** 2) - var_model\n",
    "    else:\n",
    "        Err_mat[0, :] = (pts - mean_model) / mean_model\n",
    "        Err_mat[1, :] = (((mean_data - pts) ** 2) - var_model) / var_model\n",
    "    \n",
    "    return Err_mat"
   ]
  },
  {
   "cell_type": "code",
   "execution_count": 11,
   "metadata": {},
   "outputs": [
    {
     "name": "stdout",
     "output_type": "stream",
     "text": [
      "[[4.45167060e-02 1.68385288e+03]\n",
      " [1.68385288e+03 9.54184437e+08]]\n",
      "[[ 2.40701668e+01 -4.24767141e-05]\n",
      " [-4.24767141e-05  1.12297423e-09]]\n"
     ]
    }
   ],
   "source": [
    "Err_mat = get_Err_mat2(pts, mu_GMM1, sig_GMM1, 0.0, 150000.0, False)\n",
    "VCV2 = (1 / pts.shape[0]) * (Err_mat @ Err_mat.T)\n",
    "print(VCV2)\n",
    "W_hat2 = lin.inv(VCV2)\n",
    "print(W_hat2)"
   ]
  },
  {
   "cell_type": "code",
   "execution_count": 12,
   "metadata": {},
   "outputs": [
    {
     "name": "stdout",
     "output_type": "stream",
     "text": [
      "mu_GMM2 =  11.333599603618694  sig_GMM2 =  0.2132552944762079\n"
     ]
    }
   ],
   "source": [
    "gmm_args = (pts, 0.0, 150000.0, W_hat2)\n",
    "params_init = np.array([mu_GMM1, sig_GMM1])\n",
    "results2 = opt.minimize(criterion, params_init, args = (gmm_args), tol = 1e-14,\n",
    "                       method = 'L-BFGS-B', bounds = ((None, None), (1e-10, None)))\n",
    "mu_GMM2, sig_GMM2 = results2.x\n",
    "print('mu_GMM2 = ', mu_GMM2, ' sig_GMM2 = ', sig_GMM2)"
   ]
  },
  {
   "cell_type": "code",
   "execution_count": 13,
   "metadata": {},
   "outputs": [
    {
     "name": "stdout",
     "output_type": "stream",
     "text": [
      "Mean of points = 85276.82360625811 , Variance of points = 17992.542128046523\n",
      "Mean of model = 85276.82324643618 , Variance of model = 17992.541506074045\n",
      "Error vector= [-4.21945751e-09 -3.45683491e-08]\n",
      "mean difference: 0.00035982193367090076\n",
      "var difference: 0.0006219724782567937\n"
     ]
    }
   ],
   "source": [
    "mean_model2, std_model2 = model_moments(mu_GMM2, sig_GMM2, 0.0, 150000.0)\n",
    "err2 = err_vec(pts, mu_GMM2, sig_GMM2, 0.0, 150000.0, False).reshape(2,)\n",
    "print('Mean of points =', mean_data, ', Variance of points =', std_data)\n",
    "print('Mean of model =', mean_model2, ', Variance of model =', std_model2)\n",
    "print('Error vector=', err2)\n",
    "results2\n",
    "print('mean difference:', abs(mean_data-mean_model2))\n",
    "print('var difference:', abs(std_data-std_model2))"
   ]
  },
  {
   "cell_type": "code",
   "execution_count": 14,
   "metadata": {},
   "outputs": [
    {
     "data": {
      "text/plain": [
       "<matplotlib.legend.Legend at 0x22299b3f7f0>"
      ]
     },
     "execution_count": 14,
     "metadata": {},
     "output_type": "execute_result"
    },
    {
     "data": {
      "image/png": "[encoded data removed]",
      "text/plain": [
       "<Figure size 432x288 with 1 Axes>"
      ]
     },
     "metadata": {
      "needs_background": "light"
     },
     "output_type": "display_data"
    }
   ],
   "source": [
    "num_bins = 30\n",
    "count, bins, ignored = plt.hist(pts, num_bins, density=True, edgecolor='k')\n",
    "plt.title('Annual Incomes of MACSS Students Graduating between 2018 and 2020') \n",
    "plt.xlabel(r'Incomes')\n",
    "plt.ylabel(r'Percent of Incomes')\n",
    "plt.xlim([0, 150000])\n",
    "\n",
    "dist_pts = np.linspace(0, 150000, 1000)\n",
    "plt.plot(dist_pts, trunc_lognorm_pdf(dist_pts, mu_GMM1, sig_GMM1, 0.0, 150000),\n",
    "         linewidth=2, color='r', label='1: $\\mu_{GMM1}$,$\\sigma_{GMM1}$')\n",
    "plt.legend(loc='upper left')\n",
    "\n",
    "dist_pts = np.linspace(0, 150000, 1000)\n",
    "plt.plot(dist_pts, trunc_lognorm_pdf(dist_pts, mu_GMM2, sig_GMM2, 0.0, 150000),\n",
    "         linewidth=1.5, color='y', label='2: $\\mu_{GMM2}$,$\\sigma_{GMM2}$')\n",
    "plt.legend(loc='upper left')"
   ]
  },
  {
   "cell_type": "markdown",
   "metadata": {},
   "source": [
    "### Problem 1(d)"
   ]
  },
  {
   "cell_type": "code",
   "execution_count": 15,
   "metadata": {},
   "outputs": [],
   "source": [
    "def data_moments3(xvals):\n",
    "    bpct_1_dat = xvals[xvals < 75000].shape[0] / xvals.shape[0]\n",
    "    bpct_2_dat = (xvals[(xvals >= 75000) & (xvals < 100000)].shape[0] /\n",
    "                  xvals.shape[0])\n",
    "    bpct_3_dat = xvals[xvals >= 100000].shape[0] / xvals.shape[0]\n",
    "    \n",
    "    return bpct_1_dat, bpct_2_dat, bpct_3_dat\n",
    "\n",
    "def model_moments3(mu, sigma, cut_lb, cut_ub):\n",
    "    xfx = lambda x: trunc_lognorm_pdf(x, mu, sigma, cut_lb, cut_ub)\n",
    "    (bpct_1_mod, bp_1_err) = intgr.quad(xfx, 0.0, 75000)\n",
    "    (bpct_2_mod, bp_2_err) = intgr.quad(xfx, 75000, 100000)\n",
    "    (bpct_3_mod, bp_3_err) = intgr.quad(xfx, 100000, 150000)\n",
    "    \n",
    "    return bpct_1_mod, bpct_2_mod, bpct_3_mod\n",
    "\n",
    "def err_vec3(xvals, mu, sigma, cut_lb, cut_ub, simple):\n",
    "    bpct_1_dat, bpct_2_dat, bpct_3_dat = data_moments3(xvals)\n",
    "    moms_data = np.array([[bpct_1_dat], [bpct_2_dat], [bpct_3_dat]])\n",
    "    bpct_1_mod, bpct_2_mod, bpct_3_mod = model_moments3(mu, sigma, cut_lb, cut_ub)\n",
    "    moms_model = np.array([[bpct_1_mod], [bpct_2_mod], [bpct_3_mod]])\n",
    "    \n",
    "    if simple:\n",
    "        err_vec = moms_model - moms_data\n",
    "    else:\n",
    "        err_vec = (moms_model - moms_data) / moms_data\n",
    "    \n",
    "    return err_vec\n",
    "\n",
    "def criterion3(params, *args):\n",
    "    mu, sigma = params\n",
    "    xvals, cut_lb, cut_ub, W = args\n",
    "    err = err_vec3(xvals, mu, sigma, cut_lb, cut_ub, simple=False)\n",
    "    crit_val = err.T @ W @ err\n",
    "    \n",
    "    return crit_val"
   ]
  },
  {
   "cell_type": "code",
   "execution_count": 16,
   "metadata": {},
   "outputs": [
    {
     "name": "stdout",
     "output_type": "stream",
     "text": [
      "mu_GMM3_1= 11.33670517992345  sig_GMM3_1= 0.21151351610769825\n"
     ]
    },
    {
     "data": {
      "text/plain": [
       "      fun: array([[2.44369927e-15]])\n",
       " hess_inv: <2x2 LbfgsInvHessProduct with dtype=float64>\n",
       "      jac: array([9.42507144e-09, 4.61277452e-10])\n",
       "  message: b'CONVERGENCE: REL_REDUCTION_OF_F_<=_FACTR*EPSMCH'\n",
       "     nfev: 60\n",
       "      nit: 6\n",
       "   status: 0\n",
       "  success: True\n",
       "        x: array([11.33670518,  0.21151352])"
      ]
     },
     "execution_count": 16,
     "metadata": {},
     "output_type": "execute_result"
    }
   ],
   "source": [
    "W_hat3 = np.eye(3)\n",
    "gmm_args = (pts, 0, 150000, W_hat3)\n",
    "results3 = opt.minimize(criterion3, params_init, args=(gmm_args), tol=1e-14,\n",
    "                       method='L-BFGS-B', bounds=((None, None), (1e-10, None)))\n",
    "mu_GMM3_1, sig_GMM3_1 = results3.x\n",
    "print('mu_GMM3_1=', mu_GMM3_1, ' sig_GMM3_1=', sig_GMM3_1)\n",
    "results3"
   ]
  },
  {
   "cell_type": "code",
   "execution_count": 17,
   "metadata": {},
   "outputs": [
    {
     "name": "stdout",
     "output_type": "stream",
     "text": [
      "Error vector =  [ 1.13768176e-08  1.18261370e-08 -4.66305669e-08]\n",
      "GMM criterion function: [[2.44369927e-15]]\n",
      "percent ['Percent <75000', 'Percent 75000~100000', 'Percent > = 100000']\n",
      "Data Moments ([0.3, 0.5, 0.2],)\n",
      "Model Moments ([0.3000000034130453, 0.5000000059130685, 0.19999999067388663],)\n"
     ]
    }
   ],
   "source": [
    "err3_1 = err_vec3(pts, mu_GMM3_1, sig_GMM3_1, 0.0, 150000.0, False).reshape(3,)\n",
    "bpct_1_dat, bpct_2_dat, bpct_3_dat = data_moments3(pts)\n",
    "pct1, pct2, pct3 = model_moments3(mu_GMM3_1, sig_GMM3_1, 0.0, 150000.0)\n",
    "\n",
    "print('Error vector = ', err3_1)\n",
    "print('GMM criterion function:',results3.fun)\n",
    "bpct = [bpct_1_dat, bpct_2_dat, bpct_3_dat],\n",
    "pert = [pct1, pct2, pct3],\n",
    "print('percent', ['Percent <75000','Percent 75000~100000','Percent > = 100000'])\n",
    "print('Data Moments', bpct)\n",
    "print('Model Moments', pert)"
   ]
  },
  {
   "cell_type": "code",
   "execution_count": 18,
   "metadata": {},
   "outputs": [
    {
     "data": {
      "text/plain": [
       "<matplotlib.legend.Legend at 0x2229b026278>"
      ]
     },
     "execution_count": 18,
     "metadata": {},
     "output_type": "execute_result"
    },
    {
     "data": {
      "image/png": "[encoded data removed]",
      "text/plain": [
       "<Figure size 432x288 with 1 Axes>"
      ]
     },
     "metadata": {
      "needs_background": "light"
     },
     "output_type": "display_data"
    }
   ],
   "source": [
    "num_bins = 30\n",
    "count, bins, ignored = plt.hist(pts, num_bins, density=True, edgecolor='k')\n",
    "plt.title('Annual Incomes of MACSS Students Graduating between 2018 and 2020') \n",
    "plt.xlabel(r'Incomes')\n",
    "plt.ylabel(r'Percent of Incomes')\n",
    "plt.xlim([0, 150000])\n",
    "\n",
    "dist_pts = np.linspace(0, 150000, 1000)\n",
    "plt.plot(dist_pts, trunc_lognorm_pdf(dist_pts, mu_GMM3_1, sig_GMM3_1, 0.0, 150000),\n",
    "         linewidth=2, color='r', label='1: $\\mu_{GMM3_1}$,$\\sigma_{GMM3_1}$')\n",
    "plt.legend(loc='upper left')"
   ]
  },
  {
   "cell_type": "markdown",
   "metadata": {},
   "source": [
    "### Problem 1(e)"
   ]
  },
  {
   "cell_type": "code",
   "execution_count": 19,
   "metadata": {},
   "outputs": [],
   "source": [
    "def get_Err_mat3(pts, mu, sigma, cut_lb, cut_ub, simple=False):\n",
    "    R = 3\n",
    "    N = len(pts)\n",
    "    Err_mat = np.zeros((R, N))\n",
    "    pct_1_mod, pct_2_mod, pct_3_mod = model_moments3(mu, sigma, cut_lb, cut_ub)\n",
    "    \n",
    "    if simple:\n",
    "        pts_in_grp1 = pts < 75000\n",
    "        Err_mat[0, :] = pts_in_grp1 - pct_1_mod\n",
    "        pts_in_grp2 = (pts >=  75000) & (pts < 100000)\n",
    "        Err_mat[1, :] = pts_in_grp2 - pct_2_mod\n",
    "        pts_in_grp3 = pts >=  100000\n",
    "        Err_mat[2, :] = pts_in_grp3 - pct_3_mod\n",
    "\n",
    "    else:\n",
    "        pts_in_grp1 = pts < 75000\n",
    "        Err_mat[0, :] = (pts_in_grp1 - pct_1_mod) / pct_1_mod\n",
    "        pts_in_grp2 = (pts >=  75000) & (pts < 100000)\n",
    "        Err_mat[1, :] = (pts_in_grp2 - pct_2_mod) / pct_2_mod\n",
    "        pts_in_grp3 = pts >=  100000\n",
    "        Err_mat[2, :] = (pts_in_grp3 - pct_3_mod) / pct_3_mod\n",
    "    \n",
    "    return Err_mat"
   ]
  },
  {
   "cell_type": "code",
   "execution_count": 20,
   "metadata": {},
   "outputs": [
    {
     "name": "stdout",
     "output_type": "stream",
     "text": [
      "[[ 2.33333328 -0.99999998 -1.00000004]\n",
      " [-0.99999998  0.99999998 -1.00000003]\n",
      " [-1.00000004 -1.00000003  4.00000037]]\n",
      "[[ 0.25761773 -0.14958449 -0.01246537]\n",
      " [-0.14958449  0.11911357 -0.07340719]\n",
      " [-0.01246537 -0.07340719  0.20221605]]\n"
     ]
    }
   ],
   "source": [
    "Err_mat3 = get_Err_mat3(pts, mu_GMM3_1, sig_GMM3_1, 0.0, 150000.0, False)\n",
    "VCV2_3 = (1 / pts.shape[0]) * (Err_mat3 @ Err_mat3.T)\n",
    "print(VCV2_3)\n",
    "W_hat2_3 = lin.pinv(VCV2_3)\n",
    "print(W_hat2_3)"
   ]
  },
  {
   "cell_type": "code",
   "execution_count": 21,
   "metadata": {},
   "outputs": [
    {
     "name": "stdout",
     "output_type": "stream",
     "text": [
      "mu_GMM3_2 =  11.33359961340108  sig_GMM3_2 =  0.21325529509280874\n"
     ]
    }
   ],
   "source": [
    "gmm_args = (pts, 0.0, 150000.0, W_hat2_3)\n",
    "results4 = opt.minimize(criterion3, params_init, args = (gmm_args),method = 'L-BFGS-B')\n",
    "mu_GMM3_2, sig_GMM3_2 = results4.x\n",
    "print('mu_GMM3_2 = ', mu_GMM3_2, ' sig_GMM3_2 = ', sig_GMM3_2)"
   ]
  },
  {
   "cell_type": "code",
   "execution_count": 22,
   "metadata": {},
   "outputs": [
    {
     "name": "stdout",
     "output_type": "stream",
     "text": [
      "Error vector =  [ 0.02208416 -0.00875996 -0.01122634]\n",
      "GMM criterion function: [[0.00020989]]\n",
      "percent ['Percent <75000', 'Percent 75000~100000', 'Percent > = 100000']\n",
      "Data Moments ([0.3, 0.5, 0.2],)\n",
      "Model Moments ([0.30662524929513346, 0.49562001855192594, 0.19775473215294084],)\n"
     ]
    }
   ],
   "source": [
    "err3_2 = err_vec3(pts, mu_GMM3_2, sig_GMM3_2, 0.0, 150000.0, False).reshape(3,)\n",
    "pct1, pct2, pct3 = model_moments3(mu_GMM3_2, sig_GMM3_2, 0.0, 150000.0)\n",
    "\n",
    "print('Error vector = ', err3_2)\n",
    "print('GMM criterion function:',results4.fun)\n",
    "bpct = [bpct_1_dat, bpct_2_dat, bpct_3_dat],\n",
    "pert = [pct1, pct2, pct3],\n",
    "print('percent', ['Percent <75000','Percent 75000~100000','Percent > = 100000'])\n",
    "print('Data Moments', bpct)\n",
    "print('Model Moments', pert)"
   ]
  },
  {
   "cell_type": "code",
   "execution_count": 24,
   "metadata": {},
   "outputs": [
    {
     "data": {
      "text/plain": [
       "<matplotlib.legend.Legend at 0x22299985908>"
      ]
     },
     "execution_count": 24,
     "metadata": {},
     "output_type": "execute_result"
    },
    {
     "data": {
      "image/png": "[encoded data removed]",
      "text/plain": [
       "<Figure size 432x288 with 1 Axes>"
      ]
     },
     "metadata": {
      "needs_background": "light"
     },
     "output_type": "display_data"
    }
   ],
   "source": [
    "num_bins = 30\n",
    "count, bins, ignored = plt.hist(pts, num_bins, density=True, edgecolor='k')\n",
    "plt.title('Annual Incomes of MACSS Students Graduating between 2018 and 2020') \n",
    "plt.xlabel(r'Incomes')\n",
    "plt.ylabel(r'Percent of Incomes')\n",
    "plt.xlim([0, 150000])\n",
    "\n",
    "dist_pts = np.linspace(0, 150000, 1000)\n",
    "plt.plot(dist_pts, trunc_lognorm_pdf(dist_pts, mu_GMM3_1, sig_GMM3_1, 0.0, 150000),\n",
    "         linewidth=2, color='r', label='1: $\\mu_{GMM3_1}$,$\\sigma_{GMM3_1}$')\n",
    "plt.legend(loc='upper left')\n",
    "\n",
    "dist_pts = np.linspace(0, 150000, 1000)\n",
    "plt.plot(dist_pts, trunc_lognorm_pdf(dist_pts, mu_GMM3_2, sig_GMM3_2, 0.0, 150000),\n",
    "         linewidth=2, color='y', label='2: $\\mu_{GMM3_2}$,$\\sigma_{GMM3_2}$')\n",
    "plt.legend(loc='upper left')"
   ]
  },
  {
   "cell_type": "markdown",
   "metadata": {},
   "source": [
    "### Problem 1(f)"
   ]
  },
  {
   "cell_type": "code",
   "execution_count": 26,
   "metadata": {},
   "outputs": [],
   "source": [
    "mu = [mu_GMM1,mu_GMM2,mu_GMM3_1,mu_GMM3_2]\n",
    "sigma = [sig_GMM1,sig_GMM2,sig_GMM3_1,sig_GMM3_2]\n",
    "GMMV = [results.fun,results2.fun,results3.fun,results4.fun]"
   ]
  },
  {
   "cell_type": "code",
   "execution_count": 28,
   "metadata": {},
   "outputs": [
    {
     "name": "stdout",
     "output_type": "stream",
     "text": [
      "[11.33359961340108, 11.333599603618694, 11.33670517992345, 11.33359961340108]\n",
      "[0.21325529509280874, 0.2132552944762079, 0.21151351610769825, 0.21325529509280874]\n",
      "[array([[6.39927099e-16]]), array([[4.28528567e-16]]), array([[2.44369927e-15]]), array([[0.00020989]])]\n"
     ]
    }
   ],
   "source": [
    "print(mu)\n",
    "print(sigma)\n",
    "print(GMMV)"
   ]
  },
  {
   "cell_type": "markdown",
   "metadata": {},
   "source": [
    "Therefore, we have the two moment and weighted model from part (c) has the smallest GMM function value. Hence, it is the model that fits the best."
   ]
  },
  {
   "cell_type": "markdown",
   "metadata": {},
   "source": [
    "### Problem 2 "
   ]
  },
  {
   "cell_type": "code",
   "execution_count": 32,
   "metadata": {},
   "outputs": [],
   "source": [
    "data = pd.read_csv(\"data/sick.txt\")"
   ]
  },
  {
   "cell_type": "code",
   "execution_count": 33,
   "metadata": {},
   "outputs": [],
   "source": [
    "def err_vec(data, b0, b1, b2, b3):\n",
    "    yhat = b0 + b1 * data['age'] + b2 * data['children'] + b3 * data['avgtemp_winter']\n",
    "    y = data['sick']\n",
    "    err_vec = yhat - y\n",
    "    return err_vec\n",
    "\n",
    "def crit(params, *args):\n",
    "    b0, b1, b2, b3 = params\n",
    "    data, W = args\n",
    "    err = err_vec(data, b0, b1, b2, b3)\n",
    "    crit_val = err.T @ W @ err\n",
    "    return crit_val"
   ]
  },
  {
   "cell_type": "code",
   "execution_count": 34,
   "metadata": {},
   "outputs": [
    {
     "name": "stdout",
     "output_type": "stream",
     "text": [
      "b0= 0.2516448636612042\n",
      "b1= 0.012933470965564249\n",
      "b2= 0.40050098470289774\n",
      "b3= -0.009991709711286762\n",
      "GMM criterion function: 0.0018212898060782808\n"
     ]
    },
    {
     "data": {
      "text/plain": [
       "      fun: 0.0018212898060782808\n",
       " hess_inv: <4x4 LbfgsInvHessProduct with dtype=float64>\n",
       "      jac: array([ 1.63237479e-07, -1.97918938e-06, -5.83402684e-06, -5.58679839e-05])\n",
       "  message: b'CONVERGENCE: REL_REDUCTION_OF_F_<=_FACTR*EPSMCH'\n",
       "     nfev: 180\n",
       "      nit: 11\n",
       "   status: 0\n",
       "  success: True\n",
       "        x: array([ 0.25164486,  0.01293347,  0.40050098, -0.00999171])"
      ]
     },
     "execution_count": 34,
     "metadata": {},
     "output_type": "execute_result"
    }
   ],
   "source": [
    "b0, b1, b2, b3 = 1, 0, 0, 0\n",
    "params_init = np.array([b0, b1, b2, b3])\n",
    "W_hat = np.eye(df.shape[0])\n",
    "gmm_args = (df, W_hat)\n",
    "results = opt.minimize(crit, params_init, args = (gmm_args), tol = 1e-14,method = 'L-BFGS-B')\n",
    "b0, b1, b2, b3 = results.x\n",
    "print(\"b0=\", b0)\n",
    "print(\"b1=\", b1)\n",
    "print(\"b2=\", b2)\n",
    "print(\"b3=\", b3)\n",
    "print('GMM criterion function:', results.fun)\n",
    "results"
   ]
  },
  {
   "cell_type": "code",
   "execution_count": null,
   "metadata": {},
   "outputs": [],
   "source": []
  }
 ],
 "metadata": {
  "kernelspec": {
   "display_name": "Python 3",
   "language": "python",
   "name": "python3"
  },
  "language_info": {
   "codemirror_mode": {
    "name": "ipython",
    "version": 3
   },
   "file_extension": ".py",
   "mimetype": "text/x-python",
   "name": "python",
   "nbconvert_exporter": "python",
   "pygments_lexer": "ipython3",
   "version": "3.6.5"
  }
 },
 "nbformat": 4,
 "nbformat_minor": 2
}
